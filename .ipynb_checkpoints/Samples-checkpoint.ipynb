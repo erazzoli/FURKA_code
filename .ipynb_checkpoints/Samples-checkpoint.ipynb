{
 "cells": [
  {
   "cell_type": "code",
   "execution_count": 3,
   "metadata": {},
   "outputs": [],
   "source": [
    "# LSNO 0.25 holes/Ni  see for instance Phys. Rev. Lett. 118, 177601\n",
    "#  in the unit cell of doubled volume (space group F4/mmm); for x = 0.25\n",
    "# this corresponds to lattice parameters a = b = 5.42 ˚A and c = 12.64\n",
    "# SO, [1-ε 0 0]\n",
    "# CO [2ε 0 1]\n",
    "\n",
    "#lattice parameters\n",
    "a =  5.42 # in A\n",
    "b =  5.42\n",
    "c =  12.64\n",
    "alpha = 90 # in deg\n",
    "beta  = 90\n",
    "gamma = 90\n",
    "\n",
    "#Reciprocal lattice parameters\n",
    "\n",
    "ka = 1/a\n",
    "kb = 1/b\n",
    "kc = 1/c\n",
    "kalpha = 90 # deg\n",
    "kbeta  = 90\n",
    "kgamma = 90\n",
    "\n",
    "\n",
    "\n",
    "#hv\n",
    "\n",
    "hv = 0.853 # in keV\n",
    "\n",
    "ε = 0.28 #need to get more ref for this\n",
    "\n",
    "# SO\n",
    "h = 1-ε\n",
    "k = 0\n",
    "l = 0\n",
    "\n",
    "# CO\n",
    "h = 2*ε\n",
    "k = 0\n",
    "l = 0\n",
    "\n",
    "\n",
    "# usually crystal is cut so a axis is out-of-plane, and c in plane\n",
    "U = R.from_rotvec(-np.pi/2 * np.array([0, 1, 0])).as_matrix() #Sample glued with c axis along x - diff axis for all angles = 0\n"
   ]
  },
  {
   "cell_type": "code",
   "execution_count": null,
   "metadata": {},
   "outputs": [],
   "source": []
  }
 ],
 "metadata": {
  "kernelspec": {
   "display_name": "Python 3",
   "language": "python",
   "name": "python3"
  },
  "language_info": {
   "codemirror_mode": {
    "name": "ipython",
    "version": 3
   },
   "file_extension": ".py",
   "mimetype": "text/x-python",
   "name": "python",
   "nbconvert_exporter": "python",
   "pygments_lexer": "ipython3",
   "version": "3.9.0"
  }
 },
 "nbformat": 4,
 "nbformat_minor": 4
}
