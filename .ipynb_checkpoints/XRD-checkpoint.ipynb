{
 "cells": [
  {
   "cell_type": "code",
   "execution_count": 56,
   "metadata": {},
   "outputs": [
    {
     "name": "stdout",
     "output_type": "stream",
     "text": [
      "[ 3.59066427e-01  7.97287630e-17 -3.59066427e-01]\n",
      "0.3590664272890485\n",
      "7.972876298923925e-17\n",
      "1.2722218725854067e-14\n",
      "-45.0\n",
      "22.991148162041362\n"
     ]
    }
   ],
   "source": [
    "#code to calculates XRD angles\n",
    "#conventions are from Busing Levy Acta Cryst. (1967) 22, 457\n",
    "\n",
    "import numpy as np\n",
    "from scipy.spatial.transform import Rotation as R\n",
    "\n",
    "#lattice parameters\n",
    "a =  5.57 # in A\n",
    "b =  5.57\n",
    "c =  5.57 \n",
    "alpha = 90 # in deg\n",
    "beta  = 90\n",
    "gamma = 90\n",
    "\n",
    "#Reciprocal lattice parameters\n",
    "\n",
    "ka = 1/a\n",
    "kb = 1/b\n",
    "kc = 1/c\n",
    "kalpha = 90 # deg\n",
    "kbeta  = 90\n",
    "kgamma = 90\n",
    "\n",
    "\n",
    "# Miller indices \n",
    "\n",
    "h = 2\n",
    "k = 2 \n",
    "l = 0\n",
    "\n",
    "#Miller vector\n",
    "\n",
    "Mv=np.array([h, k, l])\n",
    "\n",
    "#hv\n",
    "\n",
    "hv = 8.04 # in keV\n",
    "qph = 0.508 * hv #q in A-1\n",
    "lambd = 2*np.pi / qph\n",
    "\n",
    "# B: Conversion matrix from reciprocal vectors to orth. cartesian coordinates\n",
    "B = np.array([[ka, kb*np.cos(kgamma*np.pi/180), kc*np.cos(kbeta*np.pi/180) ],\n",
    "              [ 0, kb*np.sin(kgamma*np.pi/180),-kc*np.sin(kbeta*np.pi/180)*np.cos(alpha*np.pi/180)],\n",
    "              [ 0, 0, 1/c] ])\n",
    "\n",
    "# U: Orientation matrix. Describes how the sample is glued on the diffr. \n",
    "# With all diffractometer angles =  0\n",
    "# y axes of the diffractometer is pointig along the beam and z is \n",
    "#out of the scattering plane (see fig 1 Acta Cryst.(1967).22, 457)\n",
    "\n",
    "\n",
    "U = R.from_rotvec(-np.pi/2 * np.array([1, 0, 0])).as_matrix() #Sample glued with c axis along y - diff axis for all angles = 0\n",
    "\n",
    "\n",
    "hc = B.dot(Mv)\n",
    "hphi=U.dot(hc)\n",
    "\n",
    "\n",
    "q = np.linalg.norm(hc)\n",
    "\n",
    "\n",
    "#Angles in bisecting geometry omega=0\n",
    "print(hphi)\n",
    "print(hphi[0])\n",
    "print(hphi[1])\n",
    "\n",
    "Phi = np.arctan(hphi[1]/hphi[0]) *180/np.pi\n",
    "Chi = np.arctan(hphi[2]/ np.sqrt(hphi[0]**2 + hphi[1]**2))*180/np.pi\n",
    "Theta = np.arcsin(lambd*q / 2)*180/np.pi\n",
    "\n",
    "print(Phi)\n",
    "print(Chi) \n",
    "print(Theta)\n",
    "                \n",
    "\n"
   ]
  },
  {
   "cell_type": "code",
   "execution_count": null,
   "metadata": {},
   "outputs": [],
   "source": []
  }
 ],
 "metadata": {
  "kernelspec": {
   "display_name": "Python 3",
   "language": "python",
   "name": "python3"
  },
  "language_info": {
   "codemirror_mode": {
    "name": "ipython",
    "version": 3
   },
   "file_extension": ".py",
   "mimetype": "text/x-python",
   "name": "python",
   "nbconvert_exporter": "python",
   "pygments_lexer": "ipython3",
   "version": "3.9.0"
  }
 },
 "nbformat": 4,
 "nbformat_minor": 4
}
