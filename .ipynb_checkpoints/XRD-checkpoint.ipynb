{
 "cells": [
  {
   "cell_type": "code",
   "execution_count": null,
   "metadata": {},
   "outputs": [],
   "source": [
    "#code to calculates XRD angles\n",
    "#conventions are from Busing Levy Acta Cryst. (1967) 22, 457"
   ]
  },
  {
   "cell_type": "code",
   "execution_count": 79,
   "metadata": {},
   "outputs": [],
   "source": [
    "import numpy as np\n",
    "from scipy.spatial.transform import Rotation as R\n",
    "\n",
    "#lattice parameters\n",
    "a =  3.9 # in A\n",
    "b =  3.9\n",
    "c =  7.95 \n",
    "alpha = 90 # in deg\n",
    "beta  = 90\n",
    "gamma = 90\n",
    "\n",
    "#Reciprocal lattice parameters\n",
    "\n",
    "ka = 1/a\n",
    "kb = 1/b\n",
    "kc = 1/c\n",
    "kalpha = 90 # deg\n",
    "kbeta  = 90\n",
    "kgamma = 90\n",
    "\n",
    "\n",
    "\n",
    "#hv\n",
    "\n",
    "hv = 1.2 # in keV\n",
    "qph = 0.508 * hv #q in A-1\n",
    "lambd = 2*np.pi / qph"
   ]
  },
  {
   "cell_type": "code",
   "execution_count": 80,
   "metadata": {},
   "outputs": [],
   "source": [
    "# U: Orientation matrix. Describes how the sample is glued on the diffr. \n",
    "# With all diffractometer angles =  0\n",
    "# y axes of the diffractometer is pointig along the beam and z is \n",
    "#out of the scattering plane (see fig 1 Acta Cryst.(1967).22, 457)\n",
    "U = R.from_rotvec(-np.pi/2 * np.array([1, 0, 0])).as_matrix() #Sample glued with c axis along y - diff axis for all angles = 0\n",
    "\n",
    "\n",
    "# Miller indices \n",
    "\n",
    "h = 1/2\n",
    "k = 1/2\n",
    "l = 1/2\n",
    "\n",
    "#Miller vector\n",
    "\n",
    "Mv=np.array([h, k, l])"
   ]
  },
  {
   "cell_type": "code",
   "execution_count": 84,
   "metadata": {},
   "outputs": [
    {
     "name": "stdout",
     "output_type": "stream",
     "text": [
      "q norm (1 / Miller Planes distance)\n",
      "0.191907919402987\n",
      "q*lambd/2\n",
      "0.989003460895876\n",
      "Chi: 26.131000544938587\n",
      "Chi: -41.91715902648419\n",
      "Theta: 81.49519374589794\n"
     ]
    }
   ],
   "source": [
    "# B: Conversion matrix from reciprocal vectors to orth. cartesian coordinates defined as\n",
    "# x parallel to ka\n",
    "# y in the plane of ka, kb\n",
    "# z perp to the plane of ka, kb\n",
    "B = np.array([[ka, kb*np.cos(kgamma*np.pi/180), kc*np.cos(kbeta*np.pi/180)                        ],\n",
    "              [ 0, kb*np.sin(kgamma*np.pi/180),-kc*np.sin(kbeta*np.pi/180)*np.cos(alpha*np.pi/180)],      #not that clear why there is alpha and not kalpha\n",
    "              [ 0,             0,                            1/c                                  ] ])    #not that clear why there is 1/c and not -kc*np.sin(kbeta*np.pi/180)*np.SIN(alpha*np.pi/180)]\n",
    "\n",
    "\n",
    "\n",
    "\n",
    "\n",
    "hc = B.dot(Mv)\n",
    "hphi=U.dot(hc)\n",
    "\n",
    "\n",
    "q = np.linalg.norm(hc)\n",
    "\n",
    "print(\"q norm (1 / Miller Planes distance)\")\n",
    "print(q)\n",
    "print(\"q*lambd/2\")\n",
    "print(q*lambd/2)\n",
    "\n",
    "#Angles in bisecting geometry omega=0\n",
    "Phi = np.arctan(hphi[1]/hphi[0]) *180/np.pi\n",
    "Chi = np.arctan(hphi[2]/ np.sqrt(hphi[0]**2 + hphi[1]**2))*180/np.pi\n",
    "Theta = np.arcsin(lambd*q / 2)*180/np.pi\n",
    "\n",
    "#print(B)\n",
    "\n",
    "print(\"Chi:\",Phi)\n",
    "print(\"Chi:\", Chi) \n",
    "print(\"Theta:\", Theta)\n",
    "              \n",
    "    \n",
    "    \n",
    "# Angles in \\[Chi] =   90 geometry are:\n",
    "\n",
    "#Print[\"Angles in \\[Chi]=90 geometry are :\"]\n",
    "#Phi = np.arctan(-hphi[0]/hphi[1])*180/Pi\n",
    "#Omega = np.arctan(- np.sqrt(hphi[0]**2 + hphi[1]**2)/ hphi[2])*180/Pi"
   ]
  },
  {
   "cell_type": "code",
   "execution_count": null,
   "metadata": {},
   "outputs": [],
   "source": []
  }
 ],
 "metadata": {
  "kernelspec": {
   "display_name": "Python 3",
   "language": "python",
   "name": "python3"
  },
  "language_info": {
   "codemirror_mode": {
    "name": "ipython",
    "version": 3
   },
   "file_extension": ".py",
   "mimetype": "text/x-python",
   "name": "python",
   "nbconvert_exporter": "python",
   "pygments_lexer": "ipython3",
   "version": "3.9.0"
  }
 },
 "nbformat": 4,
 "nbformat_minor": 4
}
