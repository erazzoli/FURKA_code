{
 "cells": [
  {
   "cell_type": "markdown",
   "metadata": {},
   "source": [
    "# XRD angles\n",
    "conventions are from Busing Levy Acta Cryst. (1967) 22, 457"
   ]
  },
  {
   "cell_type": "code",
   "execution_count": 88,
   "metadata": {},
   "outputs": [],
   "source": [
    "# Sr3Co2Fe24O41\n",
    "import numpy as np\n",
    "from scipy.spatial.transform import Rotation as R\n",
    "\n",
    "\n",
    "\n",
    "np.set_printoptions(suppress=True)\n",
    "np.set_printoptions(precision=4)\n",
    "\n",
    "# Hexaferrite-multiferroic Sr3Co2Fe24O41\n",
    "# Sr3Co2Fe24O41  see for instance Phys. Rev. Lett. 100, 094444 (2019)\n",
    "#  P63/mmc\n",
    "# this corresponds to lattice parameters a = b = 5.87 Å and c = 52.07 Å\n",
    "# \n",
    "# \n",
    "\n",
    "#lattice parameters\n",
    "a =  5.87 # in A\n",
    "b =  5.87\n",
    "c =  52.07\n",
    "alpha = 90 # in deg\n",
    "beta  = 90\n",
    "gamma = 120\n",
    "\n",
    "\n",
    "\n",
    "# U: Orientation matrix. Describes how the sample is glued on the diffr. \n",
    "# With all diffractometer angles =  0\n",
    "# y axes of the diffractometer is pointig along the beam and z is \n",
    "#out of the scattering plane (see fig 1 Acta Cryst.(1967).22, 457)\n",
    "\n",
    "#U = np.identity(3) # Sample glued with c axis along z - diff axis for all angles = 0\n",
    "\n",
    "# usually crystal is cut so a-axis is out-of-plane, and c-axis in plane\n",
    "#U = R.from_rotvec(-np.pi/2 * np.array([0, 1, 0])).as_matrix() #Sample glued with c axis along x - diff axis for all angles = 0\n",
    "\n",
    "\n",
    "#Reciprocal lattice parameters\n",
    "# the 2pi factor is not here so |q| is 1/d , d miller plane distance. If you put here hte 2pi the |q| is 2pi/d and formula for \n",
    "# bragg condition needs to be modified below\n",
    "\n",
    "\n",
    "ka = 2/(np.sqrt(3)*a)\n",
    "kb = 2/(np.sqrt(3)*a)\n",
    "kc = 1/c\n",
    "kalpha = 90 # deg\n",
    "kbeta  = 90\n",
    "kgamma = 30\n",
    "\n",
    "\n",
    "\n",
    "\n",
    "\n",
    "\n",
    "\n",
    "#\n",
    "h = 0\n",
    "k = 0\n",
    "l = 4\n",
    "\n",
    "\n",
    "\n",
    "\n",
    "\n",
    "#hv\n",
    "\n",
    "hv = 0.650 # in keV\n"
   ]
  },
  {
   "cell_type": "code",
   "execution_count": 89,
   "metadata": {},
   "outputs": [
    {
     "name": "stdout",
     "output_type": "stream",
     "text": [
      "[[ 0.1967  0.1704  0.    ]\n",
      " [ 0.      0.0984 -0.    ]\n",
      " [ 0.      0.      0.0192]]\n",
      "[ 0.     -0.      0.0768]\n",
      "q norm (1 / Miller Planes distance):    0.077\n",
      "q*lambd/2 :    0.731\n"
     ]
    }
   ],
   "source": [
    "#Miller vector\n",
    "Mv=np.array([h, k, l])\n",
    "\n",
    "\n",
    "# B: Conversion matrix from reciprocal vectors to orth. cartesian coordinates defined as\n",
    "# x parallel to ka\n",
    "# y in the plane of ka, kb\n",
    "# z perp to the plane of ka, kb\n",
    "B = np.array([[ka, kb*np.cos(kgamma*np.pi/180), kc*np.cos(kbeta*np.pi/180)                        ],\n",
    "              [ 0, kb*np.sin(kgamma*np.pi/180),-kc*np.sin(kbeta*np.pi/180)*np.cos(alpha*np.pi/180)],      #not that clear why there is alpha and not kalpha\n",
    "              [ 0,             0,                            1/c                                  ] ])    #not that clear why there is 1/c and not -kc*np.sin(kbeta*np.pi/180)*np.SIN(alpha*np.pi/180)]\n",
    "\n",
    "print(B)\n",
    "\n",
    "\n",
    "hc   = B.dot(Mv)\n",
    "hphi = U.dot(hc)\n",
    "\n",
    "print(hphi)\n",
    "\n",
    "q = np.linalg.norm(hc)\n",
    "qph = 0.508 * hv #in A-1\n",
    "lambd = 2*np.pi/qph #in A \n",
    "delta=0.0001\n",
    "\n",
    "print(\"q norm (1 / Miller Planes distance): %8.3f\" % q)\n",
    "print(\"q*lambd/2 : %8.3f\" % ( q*lambd/2 ) )\n"
   ]
  },
  {
   "cell_type": "code",
   "execution_count": 90,
   "metadata": {},
   "outputs": [
    {
     "name": "stdout",
     "output_type": "stream",
     "text": [
      "Phi :   -0.000\n",
      "Chi :   90.000\n",
      "Omega :    0.000\n",
      "Omega+theta :   46.960\n",
      "2Theta :   93.920\n"
     ]
    }
   ],
   "source": [
    "#Angles in bisecting geometry omega=0\n",
    "Phi   = np.arctan(hphi[1]/(hphi[0]+delta)) *180/np.pi\n",
    "Chi   = np.arctan(hphi[2]/ np.sqrt(hphi[0]**2 + hphi[1]**2))*180/np.pi\n",
    "Omega = 0\n",
    "Theta = np.arcsin(lambd*q / 2)*180/np.pi\n",
    "\n",
    "\n",
    "print(\"Phi : %8.3f\" % Phi)\n",
    "print(\"Chi : %8.3f\" % Chi)\n",
    "print(\"Omega : %8.3f\" % Omega) \n",
    "print(\"Omega+theta : %8.3f\" % (Omega+Theta)) \n",
    "print(\"2Theta : %8.3f\" % (2*Theta))"
   ]
  },
  {
   "cell_type": "code",
   "execution_count": 77,
   "metadata": {},
   "outputs": [
    {
     "name": "stdout",
     "output_type": "stream",
     "text": [
      "Phi :   -0.000\n",
      "Chi :   90.000\n",
      "Omega :    0.000\n",
      "Omega+theta :   42.057\n",
      "2Theta :   84.114\n"
     ]
    }
   ],
   "source": [
    "# Angles in Chi =   90 geometry are:\n",
    "Phi = np.arctan(-hphi[0]/(hphi[1]+delta))*180/np.pi\n",
    "Chi = 90\n",
    "Omega = np.arctan( np.sqrt(hphi[0]**2 + hphi[1]**2)/ (hphi[2]+delta))*180/np.pi\n",
    "Theta = np.arcsin(lambd*q / 2)*180/np.pi\n",
    "\n",
    "\n",
    "print(\"Phi : %8.3f\" % Phi)\n",
    "print(\"Chi : %8.3f\" % Chi)\n",
    "print(\"Omega : %8.3f\" % Omega) \n",
    "print(\"Omega+theta : %8.3f\" % (Omega+Theta)) \n",
    "print(\"2Theta : %8.3f\" % (2*Theta))"
   ]
  },
  {
   "cell_type": "code",
   "execution_count": 63,
   "metadata": {},
   "outputs": [
    {
     "name": "stdout",
     "output_type": "stream",
     "text": [
      "Phi_psi :      nan\n",
      "TLT_psi :      nan\n",
      "Omega_psi :      nan\n",
      "Omega_psi+theta :      nan\n",
      "2Theta :   84.114\n"
     ]
    },
    {
     "name": "stderr",
     "output_type": "stream",
     "text": [
      "<ipython-input-63-370bbd4c3009>:18: RuntimeWarning: invalid value encountered in true_divide\n",
      "  t2phi = t2phi/np.linalg.norm(t2phi)\n"
     ]
    }
   ],
   "source": [
    "\n",
    "\n",
    "##option 1. Build R0 from bisecting or Chi=90 geometry depending on the last you run\n",
    "PHI0   = R.from_rotvec(-np.pi/180* Phi   * np.array([0, 0, 1])).as_matrix()  \n",
    "X0     = R.from_rotvec(-np.pi/180* Chi   * np.array([0, 1, 0])).as_matrix()\n",
    "OMEGA0 = R.from_rotvec(-np.pi/180* Omega * np.array([0, 0, 1])).as_matrix()\n",
    "\n",
    "\n",
    "\n",
    "\n",
    "# Option 2. Build R0 from hphi and h0phi(!=hphi). \n",
    "# h0phi is a user specified lattice direction that at Psi=0 is placed in the scattering plane\n",
    "\n",
    "h0=np.array([0,0,1])\n",
    "h0c=B.dot(h0)\n",
    "h0phi = U.dot(h0c)\n",
    "\n",
    "t1phi =hphi/ np.linalg.norm(hphi)             \n",
    "t2phi = h0phi - h0phi.dot(t1phi)*t1phi         \n",
    "t2phi = t2phi/np.linalg.norm(t2phi)  \n",
    "t3phi = np.cross(t1phi,t2phi)\n",
    "#t3phi = t3phi/np.linalg.norm(t3phi)  \n",
    "\n",
    "#For option 1 run\n",
    "#R0 = OMEGA0.dot(X0.dot(PHI0))\n",
    "\n",
    "#For option 2 run\n",
    "R0 = np.array([t1phi, t2phi, t3phi])\n",
    "\n",
    "#\n",
    "# Now rotate around the scatering vector of psi to get the (new for op. 1) angles\n",
    "Psi= .1\n",
    "PSI0 = R.from_rotvec(-np.pi/180* Psi * np.array([1, 0, 0])).as_matrix()\n",
    "\n",
    "Rp= PSI0.dot(R0)\n",
    "\n",
    "Chi_psi   = np.arctan( np.sqrt(Rp[2,0]**2 + Rp[2,1]**2)/ Rp[2,2] )*180/np.pi\n",
    "Phi_psi   = np.arctan( -Rp[2,1]/ -Rp[2,0])*180/np.pi\n",
    "Omega_psi = np.arctan( -Rp[1,2]/(Rp[0,2]+delta))*180/np.pi\n",
    "\n",
    "print(\"Phi_psi : %8.3f\" % Phi_psi)\n",
    "print(\"TLT_psi : %8.3f\" % Chi_psi)\n",
    "print(\"Omega_psi : %8.3f\" % Omega_psi) \n",
    "print(\"Omega_psi+theta : %8.3f\" % (Omega_psi+Theta) )\n",
    "print(\"2Theta : %8.3f\" % (2*Theta))\n"
   ]
  },
  {
   "cell_type": "code",
   "execution_count": 205,
   "metadata": {},
   "outputs": [
    {
     "data": {
      "text/plain": [
       "array([0.    , 0.7071, 0.7071])"
      ]
     },
     "execution_count": 205,
     "metadata": {},
     "output_type": "execute_result"
    }
   ],
   "source": [
    "t1phi"
   ]
  },
  {
   "cell_type": "code",
   "execution_count": 206,
   "metadata": {},
   "outputs": [
    {
     "data": {
      "text/plain": [
       "array([ 0.    , -0.7071,  0.7071])"
      ]
     },
     "execution_count": 206,
     "metadata": {},
     "output_type": "execute_result"
    }
   ],
   "source": [
    "t2phi"
   ]
  },
  {
   "cell_type": "code",
   "execution_count": 203,
   "metadata": {},
   "outputs": [
    {
     "data": {
      "text/plain": [
       "array([-1.,  0.,  0.])"
      ]
     },
     "execution_count": 203,
     "metadata": {},
     "output_type": "execute_result"
    }
   ],
   "source": [
    "t3phi"
   ]
  },
  {
   "cell_type": "code",
   "execution_count": 207,
   "metadata": {},
   "outputs": [
    {
     "data": {
      "text/plain": [
       "array([[ 0.    ,  0.7071,  0.7071],\n",
       "       [ 0.    , -0.7071,  0.7071],\n",
       "       [ 1.    ,  0.    , -0.    ]])"
      ]
     },
     "execution_count": 207,
     "metadata": {},
     "output_type": "execute_result"
    }
   ],
   "source": [
    "R0"
   ]
  },
  {
   "cell_type": "code",
   "execution_count": 209,
   "metadata": {},
   "outputs": [
    {
     "data": {
      "text/plain": [
       "array([[ 0.    ,  0.    ,  1.    ],\n",
       "       [ 0.7071, -0.7071, -0.    ],\n",
       "       [ 0.7071,  0.7071, -0.    ]])"
      ]
     },
     "execution_count": 209,
     "metadata": {},
     "output_type": "execute_result"
    }
   ],
   "source": [
    "np.linalg.inv(R0)"
   ]
  },
  {
   "cell_type": "code",
   "execution_count": 246,
   "metadata": {},
   "outputs": [
    {
     "data": {
      "text/plain": [
       "array([ 0.    , -0.    , -0.0916])"
      ]
     },
     "execution_count": 246,
     "metadata": {},
     "output_type": "execute_result"
    }
   ],
   "source": [
    "hphi"
   ]
  },
  {
   "cell_type": "code",
   "execution_count": null,
   "metadata": {},
   "outputs": [],
   "source": []
  }
 ],
 "metadata": {
  "kernelspec": {
   "display_name": "Python 3",
   "language": "python",
   "name": "python3"
  },
  "language_info": {
   "codemirror_mode": {
    "name": "ipython",
    "version": 3
   },
   "file_extension": ".py",
   "mimetype": "text/x-python",
   "name": "python",
   "nbconvert_exporter": "python",
   "pygments_lexer": "ipython3",
   "version": "3.9.0"
  }
 },
 "nbformat": 4,
 "nbformat_minor": 4
}
