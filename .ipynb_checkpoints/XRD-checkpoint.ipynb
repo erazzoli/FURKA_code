{
 "cells": [
  {
   "cell_type": "markdown",
   "metadata": {},
   "source": [
    "# XRD angles\n",
    "conventions are from Busing Levy Acta Cryst. (1967) 22, 457"
   ]
  },
  {
   "cell_type": "code",
   "execution_count": 9,
   "metadata": {},
   "outputs": [],
   "source": [
    "import numpy as np\n",
    "from scipy.spatial.transform import Rotation as R\n",
    "\n",
    "\n",
    "\n",
    "np.set_printoptions(suppress=True)\n",
    "np.set_printoptions(precision=4)"
   ]
  },
  {
   "cell_type": "code",
   "execution_count": 13,
   "metadata": {},
   "outputs": [],
   "source": [
    "# La0.5Sr1.5MnO4: arXiv:cond-mat/0603497 & PHYSICAL REVIEW B 71, 214421 \n",
    "# room temperature is tetragonal with space group I4/mmm and lattice constants a=3.86 Å and c=12.44 Å\n",
    "# Orbital  ordering [1/4 1/4  0 ] \n",
    "# Magnetic ordering [1/4 1/4 1/2]\n",
    "\n",
    "#lattice parameters\n",
    "a =  3.86 # in A\n",
    "b =  3.86\n",
    "c =  12.44\n",
    "alpha = 90 # in deg\n",
    "beta  = 90\n",
    "gamma = 90\n",
    "\n",
    "\n",
    "\n",
    "# U: Orientation matrix. Describes how the sample is glued on the diffr. \n",
    "# With all diffractometer angles =  0\n",
    "# y axes of the diffractometer is pointig along the beam and z is \n",
    "# out of the scattering plane (see fig 1 Acta Cryst.(1967).22, 457)\n",
    "#U = np.identity(3) # Sample glued with c axis along z - diff axis for all angles = 0\n",
    "\n",
    "#if sample  mounted with the [100] and the [001] directions in the scattering plane\n",
    "Up1 = R.from_rotvec(np.pi/2 * np.array([0, 1, 0])).as_matrix() #Sample glued with c axis along x - diff axis for all angles = 0\n",
    "Up2 = R.from_rotvec(-np.pi/4 * np.array([0, 0, 1])).as_matrix()\n",
    "U=Up1.dot(Up2)\n",
    "\n",
    "#Reciprocal lattice parameters\n",
    "\n",
    "ka = 1/a\n",
    "kb = 1/b\n",
    "kc = 1/c\n",
    "kalpha = 90 # deg\n",
    "kbeta  = 90\n",
    "kgamma = 90\n",
    "\n",
    "\n",
    "# Orbital  ordering\n",
    "h = 1/4\n",
    "k = 1/4\n",
    "l =  0 \n",
    "\n",
    "## Magnetic ordering\n",
    "#h = 1/4\n",
    "#k = 1/4\n",
    "#l = 1/2\n",
    "\n",
    "\n",
    "\n",
    "hv = 0.640 # in keV\n",
    "\n",
    "\n"
   ]
  },
  {
   "cell_type": "code",
   "execution_count": 14,
   "metadata": {},
   "outputs": [
    {
     "name": "stdout",
     "output_type": "stream",
     "text": [
      "q norm (1 / Miller Planes distance)\n",
      "0.0915941426407445\n",
      "q*lambd/2\n",
      "0.8850623942913957\n"
     ]
    }
   ],
   "source": [
    "#Miller vector\n",
    "Mv=np.array([h, k, l])\n",
    "\n",
    "\n",
    "# B: Conversion matrix from reciprocal vectors to orth. cartesian coordinates defined as\n",
    "# x parallel to ka\n",
    "# y in the plane of ka, kb\n",
    "# z perp to the plane of ka, kb\n",
    "B = np.array([[ka, kb*np.cos(kgamma*np.pi/180), kc*np.cos(kbeta*np.pi/180)                        ],\n",
    "              [ 0, kb*np.sin(kgamma*np.pi/180),-kc*np.sin(kbeta*np.pi/180)*np.cos(alpha*np.pi/180)],      #not that clear why there is alpha and not kalpha\n",
    "              [ 0,             0,                            1/c                                  ] ])    #not that clear why there is 1/c and not -kc*np.sin(kbeta*np.pi/180)*np.SIN(alpha*np.pi/180)]\n",
    "\n",
    "\n",
    "\n",
    "\n",
    "hc   = B.dot(Mv)\n",
    "hphi = U.dot(hc)\n",
    "\n",
    "\n",
    "q = np.linalg.norm(hc)\n",
    "qph = 0.508 * hv #in A-1\n",
    "lambd = 2*np.pi/qph #in A \n",
    "delta=0.0001\n",
    "\n",
    "print(\"q norm (1 / Miller Planes distance)\")\n",
    "print(q)\n",
    "print(\"q*lambd/2\")\n",
    "print( q*lambd/2 )"
   ]
  },
  {
   "cell_type": "code",
   "execution_count": 15,
   "metadata": {},
   "outputs": [
    {
     "name": "stdout",
     "output_type": "stream",
     "text": [
      "Phi: -3.975693351828587e-12\n",
      "Chi: -89.99999999999999\n",
      "Omega: 0\n",
      "Omega+theta: 62.2592005389329\n",
      "2Theta: 124.5184010778658\n"
     ]
    }
   ],
   "source": [
    "#Angles in bisecting geometry omega=0\n",
    "Phi   = np.arctan(hphi[1]/(hphi[0]+delta)) *180/np.pi\n",
    "Chi   = np.arctan(hphi[2]/ np.sqrt(hphi[0]**2 + hphi[1]**2))*180/np.pi\n",
    "Omega = 0\n",
    "Theta = np.arcsin(lambd*q / 2)*180/np.pi\n",
    "\n",
    "\n",
    "print(\"Phi:\",Phi)\n",
    "print(\"Chi:\", Chi)\n",
    "print(\"Omega:\", Omega) \n",
    "print(\"Omega+theta:\", Omega+Theta) \n",
    "print(\"2Theta:\", 2*Theta)"
   ]
  },
  {
   "cell_type": "code",
   "execution_count": 249,
   "metadata": {},
   "outputs": [
    {
     "name": "stdout",
     "output_type": "stream",
     "text": [
      "Phi: -1.165280716690714e-09\n",
      "Chi: 90\n",
      "Omega: -1.3442440447799687e-14\n",
      "Omega+theta: 25.831309999501027\n",
      "2Theta: 51.66261999900208\n"
     ]
    }
   ],
   "source": [
    "# Angles in Chi =   90 geometry are:\n",
    "Phi = np.arctan(-hphi[0]/(hphi[1]+delta))*180/np.pi\n",
    "Chi = 90\n",
    "Omega = np.arctan( np.sqrt(hphi[0]**2 + hphi[1]**2)/ (hphi[2]+delta))*180/np.pi\n",
    "Theta = np.arcsin(lambd*q / 2)*180/np.pi\n",
    "\n",
    "\n",
    "print(\"Phi:\", Phi)\n",
    "print(\"Chi:\", Chi)\n",
    "print(\"Omega:\", Omega) \n",
    "print(\"Omega+theta:\", Omega+Theta) \n",
    "print(\"2Theta:\", 2*Theta)"
   ]
  },
  {
   "cell_type": "code",
   "execution_count": 236,
   "metadata": {},
   "outputs": [
    {
     "name": "stdout",
     "output_type": "stream",
     "text": [
      "Phi_psi: -45.0\n",
      "TLT_psi: -89.89999999999999\n",
      "Omega_psi -89.99994270413322\n",
      "Omega_psi+theta: -64.16863270463217\n",
      "2Theta: 51.66261999900208\n"
     ]
    }
   ],
   "source": [
    "\n",
    "\n",
    "##option 1. Build R0 from bisecting or Chi=90 geometry depending on the last you run\n",
    "PHI0   = R.from_rotvec(-np.pi/180* Phi   * np.array([0, 0, 1])).as_matrix()  \n",
    "X0     = R.from_rotvec(-np.pi/180* Chi   * np.array([0, 1, 0])).as_matrix()\n",
    "OMEGA0 = R.from_rotvec(-np.pi/180* Omega * np.array([0, 0, 1])).as_matrix()\n",
    "\n",
    "\n",
    "\n",
    "\n",
    "# Option 2. Build R0 from hphi and h0phi(!=hphi). \n",
    "# h0phi is a user specified lattice direction that at Psi=0 is placed in the scattering plane\n",
    "\n",
    "h0=np.array([0,0,1])\n",
    "h0c=B.dot(h0)\n",
    "h0phi = U.dot(h0c)\n",
    "\n",
    "t1phi =hphi/ np.linalg.norm(hphi)             \n",
    "t2phi = h0phi - h0phi.dot(t1phi)*t1phi         \n",
    "t2phi = t2phi/np.linalg.norm(t2phi)  \n",
    "t3phi = np.cross(t1phi,t2phi)\n",
    "#t3phi = t3phi/np.linalg.norm(t3phi)  \n",
    "\n",
    "#For option 1 run\n",
    "#R0 = OMEGA0.dot(X0.dot(PHI0))\n",
    "\n",
    "#For option 2 run\n",
    "R0 = np.array([t1phi, t2phi, t3phi])\n",
    "\n",
    "#\n",
    "# Now rotate around the scatering vector of psi to get the (new for op. 1) angles\n",
    "Psi= .1\n",
    "PSI0 = R.from_rotvec(-np.pi/180* Psi * np.array([1, 0, 0])).as_matrix()\n",
    "\n",
    "Rp= PSI0.dot(R0)\n",
    "\n",
    "Chi_psi   = np.arctan( np.sqrt(Rp[2,0]**2 + Rp[2,1]**2)/ Rp[2,2] )*180/np.pi\n",
    "Phi_psi   = np.arctan( -Rp[2,1]/ -Rp[2,0])*180/np.pi\n",
    "Omega_psi = np.arctan( -Rp[1,2]/(Rp[0,2]+delta))*180/np.pi\n",
    "\n",
    "print(\"Phi_psi:\", Phi_psi)\n",
    "print(\"TLT_psi:\", Chi_psi)\n",
    "print(\"Omega_psi\", Omega_psi) \n",
    "print(\"Omega_psi+theta:\", Omega_psi+Theta) \n",
    "print(\"2Theta:\", 2*Theta)\n"
   ]
  },
  {
   "cell_type": "code",
   "execution_count": 205,
   "metadata": {},
   "outputs": [
    {
     "data": {
      "text/plain": [
       "array([0.    , 0.7071, 0.7071])"
      ]
     },
     "execution_count": 205,
     "metadata": {},
     "output_type": "execute_result"
    }
   ],
   "source": [
    "t1phi"
   ]
  },
  {
   "cell_type": "code",
   "execution_count": 206,
   "metadata": {},
   "outputs": [
    {
     "data": {
      "text/plain": [
       "array([ 0.    , -0.7071,  0.7071])"
      ]
     },
     "execution_count": 206,
     "metadata": {},
     "output_type": "execute_result"
    }
   ],
   "source": [
    "t2phi"
   ]
  },
  {
   "cell_type": "code",
   "execution_count": 203,
   "metadata": {},
   "outputs": [
    {
     "data": {
      "text/plain": [
       "array([-1.,  0.,  0.])"
      ]
     },
     "execution_count": 203,
     "metadata": {},
     "output_type": "execute_result"
    }
   ],
   "source": [
    "t3phi"
   ]
  },
  {
   "cell_type": "code",
   "execution_count": 207,
   "metadata": {},
   "outputs": [
    {
     "data": {
      "text/plain": [
       "array([[ 0.    ,  0.7071,  0.7071],\n",
       "       [ 0.    , -0.7071,  0.7071],\n",
       "       [ 1.    ,  0.    , -0.    ]])"
      ]
     },
     "execution_count": 207,
     "metadata": {},
     "output_type": "execute_result"
    }
   ],
   "source": [
    "R0"
   ]
  },
  {
   "cell_type": "code",
   "execution_count": 209,
   "metadata": {},
   "outputs": [
    {
     "data": {
      "text/plain": [
       "array([[ 0.    ,  0.    ,  1.    ],\n",
       "       [ 0.7071, -0.7071, -0.    ],\n",
       "       [ 0.7071,  0.7071, -0.    ]])"
      ]
     },
     "execution_count": 209,
     "metadata": {},
     "output_type": "execute_result"
    }
   ],
   "source": [
    "np.linalg.inv(R0)"
   ]
  },
  {
   "cell_type": "code",
   "execution_count": 246,
   "metadata": {},
   "outputs": [
    {
     "data": {
      "text/plain": [
       "array([ 0.    , -0.    , -0.0916])"
      ]
     },
     "execution_count": 246,
     "metadata": {},
     "output_type": "execute_result"
    }
   ],
   "source": [
    "hphi"
   ]
  },
  {
   "cell_type": "code",
   "execution_count": null,
   "metadata": {},
   "outputs": [],
   "source": []
  }
 ],
 "metadata": {
  "kernelspec": {
   "display_name": "Python 3",
   "language": "python",
   "name": "python3"
  },
  "language_info": {
   "codemirror_mode": {
    "name": "ipython",
    "version": 3
   },
   "file_extension": ".py",
   "mimetype": "text/x-python",
   "name": "python",
   "nbconvert_exporter": "python",
   "pygments_lexer": "ipython3",
   "version": "3.9.0"
  }
 },
 "nbformat": 4,
 "nbformat_minor": 4
}
